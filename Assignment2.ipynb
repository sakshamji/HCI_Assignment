{
  "nbformat": 4,
  "nbformat_minor": 0,
  "metadata": {
    "colab": {
      "name": "Assignment2.ipynb",
      "provenance": [],
      "authorship_tag": "ABX9TyP262Msb0rZHn4wA9XQGkaS",
      "include_colab_link": true
    },
    "kernelspec": {
      "name": "python3",
      "display_name": "Python 3"
    },
    "accelerator": "GPU"
  },
  "cells": [
    {
      "cell_type": "markdown",
      "metadata": {
        "id": "view-in-github",
        "colab_type": "text"
      },
      "source": [
        "<a href=\"https://colab.research.google.com/github/sakshamji/HCI_Assignment/blob/main/Assignment2.ipynb\" target=\"_parent\"><img src=\"https://colab.research.google.com/assets/colab-badge.svg\" alt=\"Open In Colab\"/></a>"
      ]
    },
    {
      "cell_type": "markdown",
      "metadata": {
        "id": "eZlzocEhKzDg"
      },
      "source": [
        "<center><h1><b>Assignment 2</b></h1>\n",
        "<h3>Face Recognition Attendence System</h3></center>"
      ]
    },
    {
      "cell_type": "markdown",
      "metadata": {
        "id": "HYIf0HWULSZu"
      },
      "source": [
        "**Importing and installing necessary libs**"
      ]
    },
    {
      "cell_type": "code",
      "metadata": {
        "id": "MwUAy_mQKkeF",
        "outputId": "777db395-c1fa-433c-d623-2d3d7a90b440",
        "colab": {
          "base_uri": "https://localhost:8080/",
          "height": 306
        }
      },
      "source": [
        "pip install face-recognition"
      ],
      "execution_count": 2,
      "outputs": [
        {
          "output_type": "stream",
          "text": [
            "Collecting face-recognition\n",
            "  Downloading https://files.pythonhosted.org/packages/1e/95/f6c9330f54ab07bfa032bf3715c12455a381083125d8880c43cbe76bb3d0/face_recognition-1.3.0-py2.py3-none-any.whl\n",
            "Requirement already satisfied: Pillow in /usr/local/lib/python3.6/dist-packages (from face-recognition) (7.0.0)\n",
            "Collecting face-recognition-models>=0.3.0\n",
            "\u001b[?25l  Downloading https://files.pythonhosted.org/packages/cf/3b/4fd8c534f6c0d1b80ce0973d01331525538045084c73c153ee6df20224cf/face_recognition_models-0.3.0.tar.gz (100.1MB)\n",
            "\u001b[K     |████████████████████████████████| 100.2MB 108kB/s \n",
            "\u001b[?25hRequirement already satisfied: numpy in /usr/local/lib/python3.6/dist-packages (from face-recognition) (1.18.5)\n",
            "Requirement already satisfied: dlib>=19.7 in /usr/local/lib/python3.6/dist-packages (from face-recognition) (19.18.0)\n",
            "Requirement already satisfied: Click>=6.0 in /usr/local/lib/python3.6/dist-packages (from face-recognition) (7.1.2)\n",
            "Building wheels for collected packages: face-recognition-models\n",
            "  Building wheel for face-recognition-models (setup.py) ... \u001b[?25l\u001b[?25hdone\n",
            "  Created wheel for face-recognition-models: filename=face_recognition_models-0.3.0-py2.py3-none-any.whl size=100566173 sha256=b1da9834b43d03d8fb431d6ae5434889f262dc883ab0425561ac086b6aeeceeb\n",
            "  Stored in directory: /root/.cache/pip/wheels/d2/99/18/59c6c8f01e39810415c0e63f5bede7d83dfb0ffc039865465f\n",
            "Successfully built face-recognition-models\n",
            "Installing collected packages: face-recognition-models, face-recognition\n",
            "Successfully installed face-recognition-1.3.0 face-recognition-models-0.3.0\n"
          ],
          "name": "stdout"
        }
      ]
    },
    {
      "cell_type": "code",
      "metadata": {
        "id": "0C6IHDHPMoZE"
      },
      "source": [
        "import face_recognition\n",
        "import os\n",
        "import datetime\n",
        "import pandas as pd\n",
        "import numpy as np"
      ],
      "execution_count": 7,
      "outputs": []
    },
    {
      "cell_type": "markdown",
      "metadata": {
        "id": "lIDo9aqrNMLK"
      },
      "source": [
        "**Loading Images of students for encoding and saving them to numpy file(.npy)**\n"
      ]
    },
    {
      "cell_type": "code",
      "metadata": {
        "id": "2ks8jQ-_NVzB"
      },
      "source": [
        "# to store path to students images\n",
        "my_dir = \"/content/sample_data/Students/\"\n",
        "\n",
        "# list to store encodings and student names \n",
        "student_encoding=[]\n",
        "student_names=[]\n",
        "\n",
        "# populating above lists\n",
        "for i in os.listdir(my_dir): \n",
        "  if(i.endswith('.jpg')):\n",
        "    image = my_dir + i\n",
        "    image = face_recognition.load_image_file(image)\n",
        "    image_encoding = face_recognition.face_encodings(image)\n",
        "    student_encoding.append(image_encoding[0])\n",
        "    student_names.append(os.path.splitext(i)[0])\n",
        "\n",
        "# now saving student_encoding list to Student_encoding.csv file for future use\n",
        "np.save(\"/content/sample_data/Students\",student_encoding)"
      ],
      "execution_count": 9,
      "outputs": []
    },
    {
      "cell_type": "markdown",
      "metadata": {
        "id": "tn9Qs0oDQBb6"
      },
      "source": [
        "**Now load back from .npy file and check for face matching**"
      ]
    },
    {
      "cell_type": "code",
      "metadata": {
        "id": "c65LL6roQLuO",
        "outputId": "82729266-36d7-4151-d2a1-c36d9aa4d42e",
        "colab": {
          "base_uri": "https://localhost:8080/",
          "height": 34
        }
      },
      "source": [
        "encoded_images = np.load(\"/content/sample_data/Students.npy\")\n",
        "test_image = face_recognition.load_image_file('/content/test.jpg')\n",
        "test_encoding  = face_recognition.face_encodings(test_image)[0]\n",
        "\n",
        "result = face_recognition.compare_faces(encoded_images,test_encoding,0.95)\n",
        "result"
      ],
      "execution_count": 12,
      "outputs": [
        {
          "output_type": "execute_result",
          "data": {
            "text/plain": [
              "[True, True, False, True, True]"
            ]
          },
          "metadata": {
            "tags": []
          },
          "execution_count": 12
        }
      ]
    },
    {
      "cell_type": "markdown",
      "metadata": {
        "id": "I59jb4aaSNe0"
      },
      "source": [
        "**Now we will save result to SpreadSheet with timestamp**"
      ]
    },
    {
      "cell_type": "code",
      "metadata": {
        "id": "vMsNIit_SVha",
        "outputId": "446addf3-f0f2-477a-c830-d110c1d1ebf3",
        "colab": {
          "base_uri": "https://localhost:8080/",
          "height": 195
        }
      },
      "source": [
        "def present(val):\n",
        "  return \"Present\" if val else \"Absent\"\n",
        "to_print = {\n",
        "    \"Roll. No.\" : student_names,\n",
        "    \"TimeStamp\"  : datetime.datetime.now() ,\n",
        "    \"Present\" : map(present,result)\n",
        "}\n",
        "\n",
        "df = pd.DataFrame(to_print)\n",
        "\n",
        "df"
      ],
      "execution_count": 15,
      "outputs": [
        {
          "output_type": "execute_result",
          "data": {
            "text/html": [
              "<div>\n",
              "<style scoped>\n",
              "    .dataframe tbody tr th:only-of-type {\n",
              "        vertical-align: middle;\n",
              "    }\n",
              "\n",
              "    .dataframe tbody tr th {\n",
              "        vertical-align: top;\n",
              "    }\n",
              "\n",
              "    .dataframe thead th {\n",
              "        text-align: right;\n",
              "    }\n",
              "</style>\n",
              "<table border=\"1\" class=\"dataframe\">\n",
              "  <thead>\n",
              "    <tr style=\"text-align: right;\">\n",
              "      <th></th>\n",
              "      <th>Roll. No.</th>\n",
              "      <th>TimeStamp</th>\n",
              "      <th>Present</th>\n",
              "    </tr>\n",
              "  </thead>\n",
              "  <tbody>\n",
              "    <tr>\n",
              "      <th>0</th>\n",
              "      <td>BT18CSE001</td>\n",
              "      <td>2020-10-19 14:46:24.969465</td>\n",
              "      <td>Present</td>\n",
              "    </tr>\n",
              "    <tr>\n",
              "      <th>1</th>\n",
              "      <td>BT18CSE002</td>\n",
              "      <td>2020-10-19 14:46:24.969465</td>\n",
              "      <td>Present</td>\n",
              "    </tr>\n",
              "    <tr>\n",
              "      <th>2</th>\n",
              "      <td>BT18CSE005</td>\n",
              "      <td>2020-10-19 14:46:24.969465</td>\n",
              "      <td>Absent</td>\n",
              "    </tr>\n",
              "    <tr>\n",
              "      <th>3</th>\n",
              "      <td>BT18CSE004</td>\n",
              "      <td>2020-10-19 14:46:24.969465</td>\n",
              "      <td>Present</td>\n",
              "    </tr>\n",
              "    <tr>\n",
              "      <th>4</th>\n",
              "      <td>BT18CSE003</td>\n",
              "      <td>2020-10-19 14:46:24.969465</td>\n",
              "      <td>Present</td>\n",
              "    </tr>\n",
              "  </tbody>\n",
              "</table>\n",
              "</div>"
            ],
            "text/plain": [
              "    Roll. No.                  TimeStamp  Present\n",
              "0  BT18CSE001 2020-10-19 14:46:24.969465  Present\n",
              "1  BT18CSE002 2020-10-19 14:46:24.969465  Present\n",
              "2  BT18CSE005 2020-10-19 14:46:24.969465   Absent\n",
              "3  BT18CSE004 2020-10-19 14:46:24.969465  Present\n",
              "4  BT18CSE003 2020-10-19 14:46:24.969465  Present"
            ]
          },
          "metadata": {
            "tags": []
          },
          "execution_count": 15
        }
      ]
    },
    {
      "cell_type": "markdown",
      "metadata": {
        "id": "RIbVzaJtZ7R0"
      },
      "source": [
        "**Writing dataframe to excel file**"
      ]
    },
    {
      "cell_type": "code",
      "metadata": {
        "id": "Qyt9FZjMZ6RW"
      },
      "source": [
        "df.to_excel(\"Attendence.xlsx\")  "
      ],
      "execution_count": 16,
      "outputs": []
    }
  ]
}